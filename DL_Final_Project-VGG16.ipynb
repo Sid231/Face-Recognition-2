{
 "cells": [
  {
   "cell_type": "code",
   "execution_count": 3,
   "metadata": {
    "collapsed": true
   },
   "outputs": [],
   "source": [
    "import keras\n",
    "import numpy as np\n",
    "from glob import glob\n",
    "import matplotlib.pyplot as plt\n",
    "\n",
    "from keras.preprocessing import image                  \n",
    "from tqdm import tqdm\n",
    "\n",
    "from vgg16 import VGG16\n",
    "from keras.layers import Dense, Activation, Flatten\n",
    "from keras.layers import merge, Input\n",
    "from keras.models import Model\n",
    "from keras.utils import np_utils\n",
    "from keras.models import Sequential\n",
    "from keras.layers import Dense, Activation\n",
    "from keras.utils.np_utils import to_categorical\n",
    "\n",
    "from sklearn.datasets import fetch_lfw_people\n",
    "from sklearn.metrics import auc\n",
    "from sklearn.metrics import roc_curve\n",
    "from sklearn import metrics\n",
    "\n",
    "from scipy import interp\n",
    "from itertools import cycle\n",
    "\n",
    "import random\n",
    "random.seed(8675309)"
   ]
  },
  {
   "cell_type": "code",
   "execution_count": 4,
   "metadata": {
    "collapsed": true
   },
   "outputs": [],
   "source": [
    "def getNamesList(min_faces_per_person):\n",
    "    lfw_people = fetch_lfw_people(min_faces_per_person=min_faces_per_person)\n",
    "    names_list = []\n",
    "    for name in lfw_people.target_names:\n",
    "        a = name.split(' ')\n",
    "        newA = []\n",
    "        for i in range(0,len(a)):\n",
    "            newA.append(a[i])\n",
    "            if (i != len(a)-1):\n",
    "                newA.append('_')\n",
    "        new_name = ''\n",
    "        for i in range(0,len(newA)):\n",
    "            new_name += newA[i]\n",
    "        names_list.append(new_name)\n",
    "    return names_list"
   ]
  },
  {
   "cell_type": "code",
   "execution_count": 5,
   "metadata": {
    "collapsed": true
   },
   "outputs": [],
   "source": [
    "def getLabels(train_data):\n",
    "    human_files_train_labels = np.zeros([train_data.shape[0]], dtype=int)\n",
    "    for i in range (0,train_data.shape[0]):\n",
    "        #print(train_data[i])\n",
    "        label = train_data[i].split('/')[1]\n",
    "        human_files_train_labels[i] = human_files_dictionary[label]\n",
    "    return human_files_train_labels"
   ]
  },
  {
   "cell_type": "code",
   "execution_count": 6,
   "metadata": {
    "collapsed": true
   },
   "outputs": [],
   "source": [
    "def path_to_tensor(img_path):\n",
    "    # loads RGB image as PIL.Image.Image type\n",
    "    img = image.load_img(img_path, target_size=(224, 224))\n",
    "    # convert PIL.Image.Image type to 3D tensor with shape (224, 224, 3)\n",
    "    x = image.img_to_array(img)\n",
    "    # convert 3D tensor to 4D tensor with shape (1, 224, 224, 3) and return 4D tensor\n",
    "    return np.expand_dims(x, axis=0)\n",
    "\n",
    "def paths_to_tensor(img_paths):\n",
    "    list_of_tensors = [path_to_tensor(img_path) for img_path in tqdm(img_paths)]\n",
    "    return np.vstack(list_of_tensors)"
   ]
  },
  {
   "cell_type": "code",
   "execution_count": 7,
   "metadata": {
    "collapsed": true
   },
   "outputs": [],
   "source": [
    "class AccuracyHistory(keras.callbacks.Callback):\n",
    "    def on_train_begin(self, logs={}):\n",
    "        self.acc = []\n",
    "\n",
    "    def on_epoch_end(self, batch, logs={}):\n",
    "        self.acc.append(logs.get('acc'))"
   ]
  },
  {
   "cell_type": "code",
   "execution_count": 8,
   "metadata": {
    "collapsed": true
   },
   "outputs": [],
   "source": [
    "def convert_to_categorical(labels):\n",
    "    y = np.zeros([labels.shape[0],len(human_files_names)])\n",
    "    for i in range(0,labels.shape[0]):\n",
    "        y[i][labels[i]] = 1\n",
    "    return y"
   ]
  },
  {
   "cell_type": "code",
   "execution_count": 9,
   "metadata": {
    "collapsed": true
   },
   "outputs": [],
   "source": [
    "def getPersonName(index):\n",
    "    for key in human_files_dictionary.keys():\n",
    "         if (index == human_files_dictionary[key]):\n",
    "                return key"
   ]
  },
  {
   "cell_type": "code",
   "execution_count": 10,
   "metadata": {
    "collapsed": true
   },
   "outputs": [],
   "source": [
    "history = AccuracyHistory()"
   ]
  },
  {
   "cell_type": "code",
   "execution_count": 11,
   "metadata": {
    "collapsed": true
   },
   "outputs": [],
   "source": [
    "min_faces_per_person = 70\n",
    "names_list = getNamesList(min_faces_per_person)"
   ]
  },
  {
   "cell_type": "code",
   "execution_count": 12,
   "metadata": {
    "collapsed": true
   },
   "outputs": [],
   "source": [
    "human_files_data = []\n",
    "human_files_names = []\n",
    "for i in range (0,len(names_list)):\n",
    "    #human_files = np.array(glob('lfw/'+names_list[i]+'/*'))\n",
    "    human_files_data.append(glob('lfw/'+names_list[i]+'/*'))\n",
    "    human_files_names.append('lfw/'+names_list[i])\n",
    "human_files = []\n",
    "for i in range(0,len(names_list)):\n",
    "    data = human_files_data[i]\n",
    "    for j in range(0,len(data)):\n",
    "        human_files.append(data[j])\n",
    "human_files = np.asarray(human_files)\n",
    "random.shuffle(human_files)"
   ]
  },
  {
   "cell_type": "code",
   "execution_count": 15,
   "metadata": {
    "collapsed": true
   },
   "outputs": [],
   "source": [
    "#human_files = np.array(glob(\"lfw/*/*\"))\n",
    "#random.shuffle(human_files)\n",
    "#human_files_names = np.array(glob(\"lfw/*\"))"
   ]
  },
  {
   "cell_type": "code",
   "execution_count": 16,
   "metadata": {
    "collapsed": true
   },
   "outputs": [],
   "source": [
    "human_files_dictionary = dict()\n",
    "for i in range(0,len(human_files_names)):\n",
    "    human_files_dictionary.update({human_files_names[i].split('/')[1] : i})"
   ]
  },
  {
   "cell_type": "code",
   "execution_count": 17,
   "metadata": {
    "collapsed": true
   },
   "outputs": [],
   "source": [
    "train_divider = 0.5\n",
    "test_divider = 0.3\n",
    "train_limit = np.rint(train_divider * human_files.shape[0]).astype(int)\n",
    "test_limit = np.rint(test_divider * human_files.shape[0]).astype(int)\n",
    "#print(train_limit)\n",
    "#print(test_limit)\n",
    "human_files_train = human_files[ : train_limit]\n",
    "human_files_test = human_files[train_limit : test_limit+train_limit]\n",
    "human_files_valid = human_files[test_limit+train_limit : ]"
   ]
  },
  {
   "cell_type": "code",
   "execution_count": 18,
   "metadata": {
    "collapsed": true
   },
   "outputs": [],
   "source": [
    "human_files_train_labels = getLabels(human_files_train)\n",
    "human_files_test_labels = getLabels(human_files_test)\n",
    "human_files_valid_labels = getLabels(human_files_valid)"
   ]
  },
  {
   "cell_type": "code",
   "execution_count": 19,
   "metadata": {},
   "outputs": [
    {
     "data": {
      "text/plain": [
       "array([3, 0, 1, 5, 2, 3, 3, 6, 3, 4, 3, 3, 3, 3, 1, 2, 0, 4, 3, 3, 3, 1, 4,\n",
       "       6, 5, 1, 1, 3, 6, 3, 3, 3, 3, 3, 6, 3, 3, 6, 3, 0, 1, 3, 3, 2, 0, 3,\n",
       "       3, 2, 3, 3, 0, 3, 3, 1, 3, 1, 5, 4, 3, 5, 0, 6, 6, 6, 3, 2, 4, 6, 3,\n",
       "       1, 3, 0, 6, 0, 1, 6, 3, 3, 3, 3, 1, 6, 4, 4, 1, 1, 3, 3, 3, 3, 2, 1,\n",
       "       3, 6, 0, 1, 3, 4, 6, 1, 6, 4, 2, 4, 3, 6, 1, 3, 2, 3, 6, 3, 1, 1, 1,\n",
       "       3, 2, 3, 3, 3, 4, 1, 3, 3, 3, 4, 3, 3, 3, 1, 2, 3, 2, 3, 1, 3, 3, 1,\n",
       "       3, 1, 6, 5, 1, 3, 0, 5, 1, 1, 6, 2, 6, 1, 6, 3, 3, 3, 6, 3, 3, 3, 4,\n",
       "       3, 6, 5, 3, 3, 3, 4, 6, 3, 0, 3, 6, 3, 3, 1, 3, 3, 3, 6, 3, 3, 3, 6,\n",
       "       2, 1, 3, 2, 5, 1, 1, 5, 1, 3, 1, 4, 6, 4, 3, 2, 1, 1, 1, 3, 3, 0, 3,\n",
       "       1, 4, 3, 6, 3, 3, 3, 3, 0, 4, 2, 3, 4, 5, 6, 2, 3, 0, 0, 5, 3, 1, 5,\n",
       "       2, 3, 1, 3, 5, 3, 3, 3, 3, 2, 1, 3, 6, 3, 3, 1, 4, 3, 4, 0, 1, 3, 3,\n",
       "       3, 4, 4, 3, 3])"
      ]
     },
     "execution_count": 19,
     "metadata": {},
     "output_type": "execute_result"
    }
   ],
   "source": [
    "human_files_valid_labels"
   ]
  },
  {
   "cell_type": "code",
   "execution_count": 20,
   "metadata": {},
   "outputs": [
    {
     "name": "stderr",
     "output_type": "stream",
     "text": [
      "100%|██████████| 644/644 [00:16<00:00, 39.67it/s]\n",
      "100%|██████████| 386/386 [00:13<00:00, 27.77it/s]\n",
      "100%|██████████| 258/258 [00:06<00:00, 38.54it/s]\n"
     ]
    }
   ],
   "source": [
    "train_tensors = paths_to_tensor(human_files_train).astype('float32')/255\n",
    "test_tensors = paths_to_tensor(human_files_test).astype('float32')/255\n",
    "valid_tensors = paths_to_tensor(human_files_valid).astype('float32')/255"
   ]
  },
  {
   "cell_type": "code",
   "execution_count": 21,
   "metadata": {
    "collapsed": true
   },
   "outputs": [],
   "source": [
    "y_train = convert_to_categorical(human_files_train_labels)\n",
    "y_test = convert_to_categorical(human_files_test_labels)\n",
    "y_valid = convert_to_categorical(human_files_valid_labels)"
   ]
  },
  {
   "cell_type": "code",
   "execution_count": 22,
   "metadata": {},
   "outputs": [
    {
     "name": "stdout",
     "output_type": "stream",
     "text": [
      "Downloading data from https://github.com/fchollet/deep-learning-models/releases/download/v0.1/vgg16_weights_tf_dim_ordering_tf_kernels.h5\n",
      " 11214848/553467096 [..............................] - ETA: 1:06:14"
     ]
    },
    {
     "ename": "KeyboardInterrupt",
     "evalue": "",
     "output_type": "error",
     "traceback": [
      "\u001b[0;31m---------------------------------------------------------------------------\u001b[0m",
      "\u001b[0;31mKeyboardInterrupt\u001b[0m                         Traceback (most recent call last)",
      "\u001b[0;32m<ipython-input-22-5e51f987eac4>\u001b[0m in \u001b[0;36m<module>\u001b[0;34m()\u001b[0m\n\u001b[1;32m      1\u001b[0m \u001b[0mimage_input\u001b[0m \u001b[0;34m=\u001b[0m \u001b[0mInput\u001b[0m\u001b[0;34m(\u001b[0m\u001b[0mshape\u001b[0m\u001b[0;34m=\u001b[0m\u001b[0;34m(\u001b[0m\u001b[0;36m224\u001b[0m\u001b[0;34m,\u001b[0m \u001b[0;36m224\u001b[0m\u001b[0;34m,\u001b[0m \u001b[0;36m3\u001b[0m\u001b[0;34m)\u001b[0m\u001b[0;34m)\u001b[0m\u001b[0;34m\u001b[0m\u001b[0m\n\u001b[0;32m----> 2\u001b[0;31m \u001b[0mmodel\u001b[0m \u001b[0;34m=\u001b[0m \u001b[0mVGG16\u001b[0m\u001b[0;34m(\u001b[0m\u001b[0minclude_top\u001b[0m\u001b[0;34m=\u001b[0m\u001b[0;32mTrue\u001b[0m\u001b[0;34m,\u001b[0m\u001b[0minput_tensor\u001b[0m\u001b[0;34m=\u001b[0m\u001b[0mimage_input\u001b[0m\u001b[0;34m,\u001b[0m\u001b[0mweights\u001b[0m\u001b[0;34m=\u001b[0m\u001b[0;34m'imagenet'\u001b[0m\u001b[0;34m)\u001b[0m\u001b[0;34m\u001b[0m\u001b[0m\n\u001b[0m\u001b[1;32m      3\u001b[0m \u001b[0mmodel\u001b[0m\u001b[0;34m.\u001b[0m\u001b[0msummary\u001b[0m\u001b[0;34m(\u001b[0m\u001b[0;34m)\u001b[0m\u001b[0;34m\u001b[0m\u001b[0m\n",
      "\u001b[0;32m~/Downloads/siddhant/RU/Deep Learning Final Project/vgg16.py\u001b[0m in \u001b[0;36mVGG16\u001b[0;34m(include_top, weights, input_tensor, input_shape, pooling, classes)\u001b[0m\n\u001b[1;32m    163\u001b[0m             weights_path = get_file('vgg16_weights_tf_dim_ordering_tf_kernels.h5',\n\u001b[1;32m    164\u001b[0m                                     \u001b[0mWEIGHTS_PATH\u001b[0m\u001b[0;34m,\u001b[0m\u001b[0;34m\u001b[0m\u001b[0m\n\u001b[0;32m--> 165\u001b[0;31m                                     cache_subdir='models')\n\u001b[0m\u001b[1;32m    166\u001b[0m         \u001b[0;32melse\u001b[0m\u001b[0;34m:\u001b[0m\u001b[0;34m\u001b[0m\u001b[0m\n\u001b[1;32m    167\u001b[0m             weights_path = get_file('vgg16_weights_tf_dim_ordering_tf_kernels_notop.h5',\n",
      "\u001b[0;32m~/anaconda3/lib/python3.6/site-packages/keras/utils/data_utils.py\u001b[0m in \u001b[0;36mget_file\u001b[0;34m(fname, origin, untar, md5_hash, file_hash, cache_subdir, hash_algorithm, extract, archive_format, cache_dir)\u001b[0m\n\u001b[1;32m    218\u001b[0m         \u001b[0;32mtry\u001b[0m\u001b[0;34m:\u001b[0m\u001b[0;34m\u001b[0m\u001b[0m\n\u001b[1;32m    219\u001b[0m             \u001b[0;32mtry\u001b[0m\u001b[0;34m:\u001b[0m\u001b[0;34m\u001b[0m\u001b[0m\n\u001b[0;32m--> 220\u001b[0;31m                 \u001b[0murlretrieve\u001b[0m\u001b[0;34m(\u001b[0m\u001b[0morigin\u001b[0m\u001b[0;34m,\u001b[0m \u001b[0mfpath\u001b[0m\u001b[0;34m,\u001b[0m \u001b[0mdl_progress\u001b[0m\u001b[0;34m)\u001b[0m\u001b[0;34m\u001b[0m\u001b[0m\n\u001b[0m\u001b[1;32m    221\u001b[0m             \u001b[0;32mexcept\u001b[0m \u001b[0mURLError\u001b[0m \u001b[0;32mas\u001b[0m \u001b[0me\u001b[0m\u001b[0;34m:\u001b[0m\u001b[0;34m\u001b[0m\u001b[0m\n\u001b[1;32m    222\u001b[0m                 \u001b[0;32mraise\u001b[0m \u001b[0mException\u001b[0m\u001b[0;34m(\u001b[0m\u001b[0merror_msg\u001b[0m\u001b[0;34m.\u001b[0m\u001b[0mformat\u001b[0m\u001b[0;34m(\u001b[0m\u001b[0morigin\u001b[0m\u001b[0;34m,\u001b[0m \u001b[0me\u001b[0m\u001b[0;34m.\u001b[0m\u001b[0merrno\u001b[0m\u001b[0;34m,\u001b[0m \u001b[0me\u001b[0m\u001b[0;34m.\u001b[0m\u001b[0mreason\u001b[0m\u001b[0;34m)\u001b[0m\u001b[0;34m)\u001b[0m\u001b[0;34m\u001b[0m\u001b[0m\n",
      "\u001b[0;32m~/anaconda3/lib/python3.6/urllib/request.py\u001b[0m in \u001b[0;36murlretrieve\u001b[0;34m(url, filename, reporthook, data)\u001b[0m\n\u001b[1;32m    275\u001b[0m \u001b[0;34m\u001b[0m\u001b[0m\n\u001b[1;32m    276\u001b[0m             \u001b[0;32mwhile\u001b[0m \u001b[0;32mTrue\u001b[0m\u001b[0;34m:\u001b[0m\u001b[0;34m\u001b[0m\u001b[0m\n\u001b[0;32m--> 277\u001b[0;31m                 \u001b[0mblock\u001b[0m \u001b[0;34m=\u001b[0m \u001b[0mfp\u001b[0m\u001b[0;34m.\u001b[0m\u001b[0mread\u001b[0m\u001b[0;34m(\u001b[0m\u001b[0mbs\u001b[0m\u001b[0;34m)\u001b[0m\u001b[0;34m\u001b[0m\u001b[0m\n\u001b[0m\u001b[1;32m    278\u001b[0m                 \u001b[0;32mif\u001b[0m \u001b[0;32mnot\u001b[0m \u001b[0mblock\u001b[0m\u001b[0;34m:\u001b[0m\u001b[0;34m\u001b[0m\u001b[0m\n\u001b[1;32m    279\u001b[0m                     \u001b[0;32mbreak\u001b[0m\u001b[0;34m\u001b[0m\u001b[0m\n",
      "\u001b[0;32m~/anaconda3/lib/python3.6/http/client.py\u001b[0m in \u001b[0;36mread\u001b[0;34m(self, amt)\u001b[0m\n\u001b[1;32m    447\u001b[0m             \u001b[0;31m# Amount is given, implement using readinto\u001b[0m\u001b[0;34m\u001b[0m\u001b[0;34m\u001b[0m\u001b[0m\n\u001b[1;32m    448\u001b[0m             \u001b[0mb\u001b[0m \u001b[0;34m=\u001b[0m \u001b[0mbytearray\u001b[0m\u001b[0;34m(\u001b[0m\u001b[0mamt\u001b[0m\u001b[0;34m)\u001b[0m\u001b[0;34m\u001b[0m\u001b[0m\n\u001b[0;32m--> 449\u001b[0;31m             \u001b[0mn\u001b[0m \u001b[0;34m=\u001b[0m \u001b[0mself\u001b[0m\u001b[0;34m.\u001b[0m\u001b[0mreadinto\u001b[0m\u001b[0;34m(\u001b[0m\u001b[0mb\u001b[0m\u001b[0;34m)\u001b[0m\u001b[0;34m\u001b[0m\u001b[0m\n\u001b[0m\u001b[1;32m    450\u001b[0m             \u001b[0;32mreturn\u001b[0m \u001b[0mmemoryview\u001b[0m\u001b[0;34m(\u001b[0m\u001b[0mb\u001b[0m\u001b[0;34m)\u001b[0m\u001b[0;34m[\u001b[0m\u001b[0;34m:\u001b[0m\u001b[0mn\u001b[0m\u001b[0;34m]\u001b[0m\u001b[0;34m.\u001b[0m\u001b[0mtobytes\u001b[0m\u001b[0;34m(\u001b[0m\u001b[0;34m)\u001b[0m\u001b[0;34m\u001b[0m\u001b[0m\n\u001b[1;32m    451\u001b[0m         \u001b[0;32melse\u001b[0m\u001b[0;34m:\u001b[0m\u001b[0;34m\u001b[0m\u001b[0m\n",
      "\u001b[0;32m~/anaconda3/lib/python3.6/http/client.py\u001b[0m in \u001b[0;36mreadinto\u001b[0;34m(self, b)\u001b[0m\n\u001b[1;32m    491\u001b[0m         \u001b[0;31m# connection, and the user is reading more bytes than will be provided\u001b[0m\u001b[0;34m\u001b[0m\u001b[0;34m\u001b[0m\u001b[0m\n\u001b[1;32m    492\u001b[0m         \u001b[0;31m# (for example, reading in 1k chunks)\u001b[0m\u001b[0;34m\u001b[0m\u001b[0;34m\u001b[0m\u001b[0m\n\u001b[0;32m--> 493\u001b[0;31m         \u001b[0mn\u001b[0m \u001b[0;34m=\u001b[0m \u001b[0mself\u001b[0m\u001b[0;34m.\u001b[0m\u001b[0mfp\u001b[0m\u001b[0;34m.\u001b[0m\u001b[0mreadinto\u001b[0m\u001b[0;34m(\u001b[0m\u001b[0mb\u001b[0m\u001b[0;34m)\u001b[0m\u001b[0;34m\u001b[0m\u001b[0m\n\u001b[0m\u001b[1;32m    494\u001b[0m         \u001b[0;32mif\u001b[0m \u001b[0;32mnot\u001b[0m \u001b[0mn\u001b[0m \u001b[0;32mand\u001b[0m \u001b[0mb\u001b[0m\u001b[0;34m:\u001b[0m\u001b[0;34m\u001b[0m\u001b[0m\n\u001b[1;32m    495\u001b[0m             \u001b[0;31m# Ideally, we would raise IncompleteRead if the content-length\u001b[0m\u001b[0;34m\u001b[0m\u001b[0;34m\u001b[0m\u001b[0m\n",
      "\u001b[0;32m~/anaconda3/lib/python3.6/socket.py\u001b[0m in \u001b[0;36mreadinto\u001b[0;34m(self, b)\u001b[0m\n\u001b[1;32m    584\u001b[0m         \u001b[0;32mwhile\u001b[0m \u001b[0;32mTrue\u001b[0m\u001b[0;34m:\u001b[0m\u001b[0;34m\u001b[0m\u001b[0m\n\u001b[1;32m    585\u001b[0m             \u001b[0;32mtry\u001b[0m\u001b[0;34m:\u001b[0m\u001b[0;34m\u001b[0m\u001b[0m\n\u001b[0;32m--> 586\u001b[0;31m                 \u001b[0;32mreturn\u001b[0m \u001b[0mself\u001b[0m\u001b[0;34m.\u001b[0m\u001b[0m_sock\u001b[0m\u001b[0;34m.\u001b[0m\u001b[0mrecv_into\u001b[0m\u001b[0;34m(\u001b[0m\u001b[0mb\u001b[0m\u001b[0;34m)\u001b[0m\u001b[0;34m\u001b[0m\u001b[0m\n\u001b[0m\u001b[1;32m    587\u001b[0m             \u001b[0;32mexcept\u001b[0m \u001b[0mtimeout\u001b[0m\u001b[0;34m:\u001b[0m\u001b[0;34m\u001b[0m\u001b[0m\n\u001b[1;32m    588\u001b[0m                 \u001b[0mself\u001b[0m\u001b[0;34m.\u001b[0m\u001b[0m_timeout_occurred\u001b[0m \u001b[0;34m=\u001b[0m \u001b[0;32mTrue\u001b[0m\u001b[0;34m\u001b[0m\u001b[0m\n",
      "\u001b[0;32m~/anaconda3/lib/python3.6/ssl.py\u001b[0m in \u001b[0;36mrecv_into\u001b[0;34m(self, buffer, nbytes, flags)\u001b[0m\n\u001b[1;32m   1007\u001b[0m                   \u001b[0;34m\"non-zero flags not allowed in calls to recv_into() on %s\"\u001b[0m \u001b[0;34m%\u001b[0m\u001b[0;34m\u001b[0m\u001b[0m\n\u001b[1;32m   1008\u001b[0m                   self.__class__)\n\u001b[0;32m-> 1009\u001b[0;31m             \u001b[0;32mreturn\u001b[0m \u001b[0mself\u001b[0m\u001b[0;34m.\u001b[0m\u001b[0mread\u001b[0m\u001b[0;34m(\u001b[0m\u001b[0mnbytes\u001b[0m\u001b[0;34m,\u001b[0m \u001b[0mbuffer\u001b[0m\u001b[0;34m)\u001b[0m\u001b[0;34m\u001b[0m\u001b[0m\n\u001b[0m\u001b[1;32m   1010\u001b[0m         \u001b[0;32melse\u001b[0m\u001b[0;34m:\u001b[0m\u001b[0;34m\u001b[0m\u001b[0m\n\u001b[1;32m   1011\u001b[0m             \u001b[0;32mreturn\u001b[0m \u001b[0msocket\u001b[0m\u001b[0;34m.\u001b[0m\u001b[0mrecv_into\u001b[0m\u001b[0;34m(\u001b[0m\u001b[0mself\u001b[0m\u001b[0;34m,\u001b[0m \u001b[0mbuffer\u001b[0m\u001b[0;34m,\u001b[0m \u001b[0mnbytes\u001b[0m\u001b[0;34m,\u001b[0m \u001b[0mflags\u001b[0m\u001b[0;34m)\u001b[0m\u001b[0;34m\u001b[0m\u001b[0m\n",
      "\u001b[0;32m~/anaconda3/lib/python3.6/ssl.py\u001b[0m in \u001b[0;36mread\u001b[0;34m(self, len, buffer)\u001b[0m\n\u001b[1;32m    869\u001b[0m             \u001b[0;32mraise\u001b[0m \u001b[0mValueError\u001b[0m\u001b[0;34m(\u001b[0m\u001b[0;34m\"Read on closed or unwrapped SSL socket.\"\u001b[0m\u001b[0;34m)\u001b[0m\u001b[0;34m\u001b[0m\u001b[0m\n\u001b[1;32m    870\u001b[0m         \u001b[0;32mtry\u001b[0m\u001b[0;34m:\u001b[0m\u001b[0;34m\u001b[0m\u001b[0m\n\u001b[0;32m--> 871\u001b[0;31m             \u001b[0;32mreturn\u001b[0m \u001b[0mself\u001b[0m\u001b[0;34m.\u001b[0m\u001b[0m_sslobj\u001b[0m\u001b[0;34m.\u001b[0m\u001b[0mread\u001b[0m\u001b[0;34m(\u001b[0m\u001b[0mlen\u001b[0m\u001b[0;34m,\u001b[0m \u001b[0mbuffer\u001b[0m\u001b[0;34m)\u001b[0m\u001b[0;34m\u001b[0m\u001b[0m\n\u001b[0m\u001b[1;32m    872\u001b[0m         \u001b[0;32mexcept\u001b[0m \u001b[0mSSLError\u001b[0m \u001b[0;32mas\u001b[0m \u001b[0mx\u001b[0m\u001b[0;34m:\u001b[0m\u001b[0;34m\u001b[0m\u001b[0m\n\u001b[1;32m    873\u001b[0m             \u001b[0;32mif\u001b[0m \u001b[0mx\u001b[0m\u001b[0;34m.\u001b[0m\u001b[0margs\u001b[0m\u001b[0;34m[\u001b[0m\u001b[0;36m0\u001b[0m\u001b[0;34m]\u001b[0m \u001b[0;34m==\u001b[0m \u001b[0mSSL_ERROR_EOF\u001b[0m \u001b[0;32mand\u001b[0m \u001b[0mself\u001b[0m\u001b[0;34m.\u001b[0m\u001b[0msuppress_ragged_eofs\u001b[0m\u001b[0;34m:\u001b[0m\u001b[0;34m\u001b[0m\u001b[0m\n",
      "\u001b[0;32m~/anaconda3/lib/python3.6/ssl.py\u001b[0m in \u001b[0;36mread\u001b[0;34m(self, len, buffer)\u001b[0m\n\u001b[1;32m    629\u001b[0m         \"\"\"\n\u001b[1;32m    630\u001b[0m         \u001b[0;32mif\u001b[0m \u001b[0mbuffer\u001b[0m \u001b[0;32mis\u001b[0m \u001b[0;32mnot\u001b[0m \u001b[0;32mNone\u001b[0m\u001b[0;34m:\u001b[0m\u001b[0;34m\u001b[0m\u001b[0m\n\u001b[0;32m--> 631\u001b[0;31m             \u001b[0mv\u001b[0m \u001b[0;34m=\u001b[0m \u001b[0mself\u001b[0m\u001b[0;34m.\u001b[0m\u001b[0m_sslobj\u001b[0m\u001b[0;34m.\u001b[0m\u001b[0mread\u001b[0m\u001b[0;34m(\u001b[0m\u001b[0mlen\u001b[0m\u001b[0;34m,\u001b[0m \u001b[0mbuffer\u001b[0m\u001b[0;34m)\u001b[0m\u001b[0;34m\u001b[0m\u001b[0m\n\u001b[0m\u001b[1;32m    632\u001b[0m         \u001b[0;32melse\u001b[0m\u001b[0;34m:\u001b[0m\u001b[0;34m\u001b[0m\u001b[0m\n\u001b[1;32m    633\u001b[0m             \u001b[0mv\u001b[0m \u001b[0;34m=\u001b[0m \u001b[0mself\u001b[0m\u001b[0;34m.\u001b[0m\u001b[0m_sslobj\u001b[0m\u001b[0;34m.\u001b[0m\u001b[0mread\u001b[0m\u001b[0;34m(\u001b[0m\u001b[0mlen\u001b[0m\u001b[0;34m)\u001b[0m\u001b[0;34m\u001b[0m\u001b[0m\n",
      "\u001b[0;31mKeyboardInterrupt\u001b[0m: "
     ]
    }
   ],
   "source": [
    "image_input = Input(shape=(224, 224, 3))\n",
    "model = VGG16(include_top=True,input_tensor=image_input,weights='imagenet')\n",
    "model.summary()"
   ]
  },
  {
   "cell_type": "code",
   "execution_count": 19,
   "metadata": {
    "collapsed": true
   },
   "outputs": [],
   "source": [
    "output_size = len(human_files_names)\n",
    "last_layer = model.get_layer('block5_pool').output\n",
    "x= Flatten(name='flatten')(last_layer)\n",
    "x = Dense(1024, activation='relu', name='fc1')(x)\n",
    "x = Dense(128, activation='relu', name='fc2')(x)\n",
    "#out = Dense(1, activation='softmax', name='output')(x)\n",
    "out = Dense(output_size, activation='softmax', name='output')(x)\n",
    "vgg_model = Model(image_input, out)\n",
    "#vgg_model.summary()"
   ]
  },
  {
   "cell_type": "code",
   "execution_count": 20,
   "metadata": {
    "collapsed": true
   },
   "outputs": [],
   "source": [
    "output_size = len(human_files_names)\n",
    "last_layer = model.get_layer('fc2').output\n",
    "out = Dense(output_size, activation='softmax', name='output')(last_layer)\n",
    "normal_model = Model(image_input, out)\n",
    "#normal_model.summary()"
   ]
  },
  {
   "cell_type": "code",
   "execution_count": 21,
   "metadata": {},
   "outputs": [
    {
     "name": "stdout",
     "output_type": "stream",
     "text": [
      "_________________________________________________________________\n",
      "Layer (type)                 Output Shape              Param #   \n",
      "=================================================================\n",
      "input_1 (InputLayer)         (None, 224, 224, 3)       0         \n",
      "_________________________________________________________________\n",
      "block1_conv1 (Conv2D)        (None, 224, 224, 64)      1792      \n",
      "_________________________________________________________________\n",
      "block1_conv2 (Conv2D)        (None, 224, 224, 64)      36928     \n",
      "_________________________________________________________________\n",
      "block1_pool (MaxPooling2D)   (None, 112, 112, 64)      0         \n",
      "_________________________________________________________________\n",
      "block2_conv1 (Conv2D)        (None, 112, 112, 128)     73856     \n",
      "_________________________________________________________________\n",
      "block2_conv2 (Conv2D)        (None, 112, 112, 128)     147584    \n",
      "_________________________________________________________________\n",
      "block2_pool (MaxPooling2D)   (None, 56, 56, 128)       0         \n",
      "_________________________________________________________________\n",
      "block3_conv1 (Conv2D)        (None, 56, 56, 256)       295168    \n",
      "_________________________________________________________________\n",
      "block3_conv2 (Conv2D)        (None, 56, 56, 256)       590080    \n",
      "_________________________________________________________________\n",
      "block3_conv3 (Conv2D)        (None, 56, 56, 256)       590080    \n",
      "_________________________________________________________________\n",
      "block3_pool (MaxPooling2D)   (None, 28, 28, 256)       0         \n",
      "_________________________________________________________________\n",
      "block4_conv1 (Conv2D)        (None, 28, 28, 512)       1180160   \n",
      "_________________________________________________________________\n",
      "block4_conv2 (Conv2D)        (None, 28, 28, 512)       2359808   \n",
      "_________________________________________________________________\n",
      "block4_conv3 (Conv2D)        (None, 28, 28, 512)       2359808   \n",
      "_________________________________________________________________\n",
      "block4_pool (MaxPooling2D)   (None, 14, 14, 512)       0         \n",
      "_________________________________________________________________\n",
      "block5_conv1 (Conv2D)        (None, 14, 14, 512)       2359808   \n",
      "_________________________________________________________________\n",
      "block5_conv2 (Conv2D)        (None, 14, 14, 512)       2359808   \n",
      "_________________________________________________________________\n",
      "block5_conv3 (Conv2D)        (None, 14, 14, 512)       2359808   \n",
      "_________________________________________________________________\n",
      "block5_pool (MaxPooling2D)   (None, 7, 7, 512)         0         \n",
      "_________________________________________________________________\n",
      "flatten (Flatten)            (None, 25088)             0         \n",
      "_________________________________________________________________\n",
      "fc1 (Dense)                  (None, 1024)              25691136  \n",
      "_________________________________________________________________\n",
      "fc2 (Dense)                  (None, 128)               131200    \n",
      "_________________________________________________________________\n",
      "output (Dense)               (None, 7)                 903       \n",
      "=================================================================\n",
      "Total params: 40,537,927\n",
      "Trainable params: 25,823,239\n",
      "Non-trainable params: 14,714,688\n",
      "_________________________________________________________________\n"
     ]
    }
   ],
   "source": [
    "for layer in vgg_model.layers[:-3]:\n",
    "    layer.trainable = False\n",
    "\n",
    "vgg_model.summary()"
   ]
  },
  {
   "cell_type": "code",
   "execution_count": 22,
   "metadata": {
    "collapsed": true
   },
   "outputs": [],
   "source": [
    "#vgg_model.compile(loss=keras.losses.mean_squared_error,\n",
    "#              optimizer=keras.optimizers.SGD(lr=0.1),\n",
    "#              metrics=['accuracy'])"
   ]
  },
  {
   "cell_type": "code",
   "execution_count": 23,
   "metadata": {
    "collapsed": true
   },
   "outputs": [],
   "source": [
    "vgg_model.compile(loss=keras.losses.categorical_crossentropy,\n",
    "              optimizer=keras.optimizers.SGD(lr=0.01),\n",
    "              metrics=['accuracy'])"
   ]
  },
  {
   "cell_type": "code",
   "execution_count": 24,
   "metadata": {
    "collapsed": true
   },
   "outputs": [],
   "source": [
    "normal_model.compile(loss=keras.losses.categorical_crossentropy,\n",
    "              optimizer=keras.optimizers.SGD(lr=0.01),\n",
    "              metrics=['accuracy'])"
   ]
  },
  {
   "cell_type": "code",
   "execution_count": 25,
   "metadata": {
    "collapsed": true
   },
   "outputs": [],
   "source": [
    "#vgg_model.fit(train_tensors, human_files_train_labels,\n",
    "#          batch_size=100,\n",
    "#          epochs=50,\n",
    "#          verbose=1,\n",
    "#          validation_data=(valid_tensors, human_files_valid_labels),\n",
    "#          callbacks=[history])"
   ]
  },
  {
   "cell_type": "code",
   "execution_count": 26,
   "metadata": {},
   "outputs": [
    {
     "name": "stdout",
     "output_type": "stream",
     "text": [
      "Train on 644 samples, validate on 258 samples\n",
      "Epoch 1/50\n",
      "644/644 [==============================] - 22s - loss: 1.8983 - acc: 0.3975 - val_loss: 1.8079 - val_acc: 0.1163\n",
      "Epoch 2/50\n",
      "644/644 [==============================] - 17s - loss: 1.5813 - acc: 0.4379 - val_loss: 1.6783 - val_acc: 0.3295\n",
      "Epoch 3/50\n",
      "644/644 [==============================] - 17s - loss: 1.4840 - acc: 0.4363 - val_loss: 1.5170 - val_acc: 0.3915\n",
      "Epoch 4/50\n",
      "644/644 [==============================] - 17s - loss: 1.3441 - acc: 0.5093 - val_loss: 1.5349 - val_acc: 0.3411\n",
      "Epoch 5/50\n",
      "644/644 [==============================] - 17s - loss: 1.2318 - acc: 0.5668 - val_loss: 1.4335 - val_acc: 0.3953\n",
      "Epoch 6/50\n",
      "644/644 [==============================] - 17s - loss: 1.1577 - acc: 0.5807 - val_loss: 1.5588 - val_acc: 0.3450\n",
      "Epoch 7/50\n",
      "644/644 [==============================] - 17s - loss: 1.1575 - acc: 0.5854 - val_loss: 1.5969 - val_acc: 0.3605\n",
      "Epoch 8/50\n",
      "644/644 [==============================] - 17s - loss: 0.9812 - acc: 0.6382 - val_loss: 1.3204 - val_acc: 0.5930\n",
      "Epoch 9/50\n",
      "644/644 [==============================] - 17s - loss: 0.8079 - acc: 0.6988 - val_loss: 1.6726 - val_acc: 0.4496\n",
      "Epoch 10/50\n",
      "644/644 [==============================] - 17s - loss: 0.7930 - acc: 0.7407 - val_loss: 1.1973 - val_acc: 0.5000\n",
      "Epoch 11/50\n",
      "644/644 [==============================] - 17s - loss: 0.7198 - acc: 0.7671 - val_loss: 0.9552 - val_acc: 0.6512\n",
      "Epoch 12/50\n",
      "644/644 [==============================] - 17s - loss: 0.5978 - acc: 0.8121 - val_loss: 0.9837 - val_acc: 0.6047\n",
      "Epoch 13/50\n",
      "644/644 [==============================] - 17s - loss: 0.7488 - acc: 0.7562 - val_loss: 1.1678 - val_acc: 0.5271\n",
      "Epoch 14/50\n",
      "644/644 [==============================] - 17s - loss: 0.3940 - acc: 0.8789 - val_loss: 0.6231 - val_acc: 0.7442\n",
      "Epoch 15/50\n",
      "644/644 [==============================] - 17s - loss: 0.4380 - acc: 0.8913 - val_loss: 0.9651 - val_acc: 0.6783\n",
      "Epoch 16/50\n",
      "644/644 [==============================] - 17s - loss: 0.2397 - acc: 0.9457 - val_loss: 0.5603 - val_acc: 0.8101\n",
      "Epoch 17/50\n",
      "644/644 [==============================] - 17s - loss: 0.1408 - acc: 0.9674 - val_loss: 0.4271 - val_acc: 0.8566\n",
      "Epoch 18/50\n",
      "644/644 [==============================] - 17s - loss: 0.4393 - acc: 0.8929 - val_loss: 0.4816 - val_acc: 0.8333\n",
      "Epoch 19/50\n",
      "644/644 [==============================] - 17s - loss: 0.1272 - acc: 0.9814 - val_loss: 0.5999 - val_acc: 0.7713\n",
      "Epoch 20/50\n",
      "644/644 [==============================] - 17s - loss: 0.0752 - acc: 0.9814 - val_loss: 0.4467 - val_acc: 0.8372\n",
      "Epoch 21/50\n",
      "644/644 [==============================] - 17s - loss: 0.0732 - acc: 0.9876 - val_loss: 0.3105 - val_acc: 0.9031\n",
      "Epoch 22/50\n",
      "644/644 [==============================] - 17s - loss: 0.0544 - acc: 0.9969 - val_loss: 0.3230 - val_acc: 0.8953\n",
      "Epoch 23/50\n",
      "644/644 [==============================] - 17s - loss: 0.0383 - acc: 1.0000 - val_loss: 0.3194 - val_acc: 0.9031\n",
      "Epoch 24/50\n",
      "644/644 [==============================] - 17s - loss: 0.0255 - acc: 1.0000 - val_loss: 0.2927 - val_acc: 0.9031\n",
      "Epoch 25/50\n",
      "644/644 [==============================] - 17s - loss: 0.0226 - acc: 1.0000 - val_loss: 0.2864 - val_acc: 0.9109\n",
      "Epoch 26/50\n",
      "644/644 [==============================] - 17s - loss: 0.0213 - acc: 1.0000 - val_loss: 0.3006 - val_acc: 0.9147\n",
      "Epoch 27/50\n",
      "644/644 [==============================] - 17s - loss: 0.0180 - acc: 1.0000 - val_loss: 0.3123 - val_acc: 0.9031\n",
      "Epoch 28/50\n",
      "644/644 [==============================] - 17s - loss: 0.0152 - acc: 1.0000 - val_loss: 0.3010 - val_acc: 0.8953\n",
      "Epoch 29/50\n",
      "644/644 [==============================] - 17s - loss: 0.0145 - acc: 1.0000 - val_loss: 0.3007 - val_acc: 0.9109\n",
      "Epoch 30/50\n",
      "644/644 [==============================] - 17s - loss: 0.0125 - acc: 1.0000 - val_loss: 0.3002 - val_acc: 0.9031\n",
      "Epoch 31/50\n",
      "644/644 [==============================] - 17s - loss: 0.0111 - acc: 1.0000 - val_loss: 0.2859 - val_acc: 0.9147\n",
      "Epoch 32/50\n",
      "644/644 [==============================] - 17s - loss: 0.0109 - acc: 1.0000 - val_loss: 0.3070 - val_acc: 0.9070\n",
      "Epoch 33/50\n",
      "644/644 [==============================] - 18s - loss: 0.0099 - acc: 1.0000 - val_loss: 0.2952 - val_acc: 0.9109\n",
      "Epoch 34/50\n",
      "644/644 [==============================] - 17s - loss: 0.0093 - acc: 1.0000 - val_loss: 0.2837 - val_acc: 0.9031\n",
      "Epoch 35/50\n",
      "644/644 [==============================] - 17s - loss: 0.0087 - acc: 1.0000 - val_loss: 0.2896 - val_acc: 0.9070\n",
      "Epoch 36/50\n",
      "644/644 [==============================] - 17s - loss: 0.0079 - acc: 1.0000 - val_loss: 0.3073 - val_acc: 0.9070\n",
      "Epoch 37/50\n",
      "644/644 [==============================] - 17s - loss: 0.0076 - acc: 1.0000 - val_loss: 0.2950 - val_acc: 0.9070\n",
      "Epoch 38/50\n",
      "644/644 [==============================] - 17s - loss: 0.0071 - acc: 1.0000 - val_loss: 0.3079 - val_acc: 0.9070\n",
      "Epoch 39/50\n",
      "644/644 [==============================] - 17s - loss: 0.0067 - acc: 1.0000 - val_loss: 0.2891 - val_acc: 0.9109\n",
      "Epoch 40/50\n",
      "644/644 [==============================] - 17s - loss: 0.0064 - acc: 1.0000 - val_loss: 0.2872 - val_acc: 0.9147\n",
      "Epoch 41/50\n",
      "644/644 [==============================] - 17s - loss: 0.0061 - acc: 1.0000 - val_loss: 0.2825 - val_acc: 0.9031\n",
      "Epoch 42/50\n",
      "644/644 [==============================] - 17s - loss: 0.0058 - acc: 1.0000 - val_loss: 0.2959 - val_acc: 0.9070\n",
      "Epoch 43/50\n",
      "644/644 [==============================] - 17s - loss: 0.0055 - acc: 1.0000 - val_loss: 0.2863 - val_acc: 0.9070\n",
      "Epoch 44/50\n",
      "644/644 [==============================] - 17s - loss: 0.0053 - acc: 1.0000 - val_loss: 0.2849 - val_acc: 0.9070\n",
      "Epoch 45/50\n",
      "644/644 [==============================] - 17s - loss: 0.0051 - acc: 1.0000 - val_loss: 0.2872 - val_acc: 0.9031\n",
      "Epoch 46/50\n",
      "644/644 [==============================] - 17s - loss: 0.0050 - acc: 1.0000 - val_loss: 0.2936 - val_acc: 0.9031\n",
      "Epoch 47/50\n",
      "644/644 [==============================] - 17s - loss: 0.0047 - acc: 1.0000 - val_loss: 0.2804 - val_acc: 0.9109\n",
      "Epoch 48/50\n",
      "644/644 [==============================] - 17s - loss: 0.0045 - acc: 1.0000 - val_loss: 0.2814 - val_acc: 0.9070\n",
      "Epoch 49/50\n",
      "644/644 [==============================] - 17s - loss: 0.0043 - acc: 1.0000 - val_loss: 0.2851 - val_acc: 0.9070\n",
      "Epoch 50/50\n",
      "644/644 [==============================] - 17s - loss: 0.0042 - acc: 1.0000 - val_loss: 0.2833 - val_acc: 0.9031\n"
     ]
    }
   ],
   "source": [
    "hist = vgg_model.fit(train_tensors, y_train,\n",
    "          batch_size=15,\n",
    "          epochs=50,\n",
    "          verbose=1,\n",
    "          validation_data=(valid_tensors, y_valid),\n",
    "          callbacks=[history])"
   ]
  },
  {
   "cell_type": "code",
   "execution_count": 27,
   "metadata": {},
   "outputs": [
    {
     "name": "stdout",
     "output_type": "stream",
     "text": [
      "386/386 [==============================] - 10s    \n",
      "[VGG16 MODEL TESTING RESULTS (WITH FINE-TUNING)] loss=0.4021, accuracy: 88.0829%\n"
     ]
    }
   ],
   "source": [
    "(loss, accuracy) = vgg_model.evaluate(test_tensors, y_test, batch_size=10, verbose=1)\n",
    "print(\"[VGG16 MODEL TESTING RESULTS (WITH FINE-TUNING)] loss={:.4f}, accuracy: {:.4f}%\".format(loss,accuracy * 100))"
   ]
  },
  {
   "cell_type": "code",
   "execution_count": 28,
   "metadata": {},
   "outputs": [
    {
     "name": "stdout",
     "output_type": "stream",
     "text": [
      "386/386 [==============================] - 9s     \n",
      "[VGG16 MODEL TESTING RESULTS (WITHOUT FINE-TUNING)] loss=2.5529, accuracy: 8.2902%\n"
     ]
    }
   ],
   "source": [
    "(loss, accuracy) = normal_model.evaluate(test_tensors, y_test, batch_size=10, verbose=1)\n",
    "print(\"[VGG16 MODEL TESTING RESULTS (WITHOUT FINE-TUNING)] loss={:.4f}, accuracy: {:.4f}%\".format(loss,accuracy * 100))"
   ]
  },
  {
   "cell_type": "code",
   "execution_count": 29,
   "metadata": {},
   "outputs": [
    {
     "data": {
      "image/png": "[encoded data removed]",
      "text/plain": [
       "<matplotlib.figure.Figure at 0x7f2b82c26990>"
      ]
     },
     "metadata": {},
     "output_type": "display_data"
    }
   ],
   "source": [
    "# summarize history for accuracy\n",
    "plt.plot(hist.history['acc'])\n",
    "plt.plot(hist.history['val_acc'])\n",
    "plt.title('model accuracy')\n",
    "plt.ylabel('accuracy')\n",
    "plt.xlabel('epoch')\n",
    "plt.legend(['train', 'test'], loc='upper left')\n",
    "plt.show()"
   ]
  },
  {
   "cell_type": "code",
   "execution_count": 30,
   "metadata": {},
   "outputs": [
    {
     "data": {
      "image/png": "[encoded data removed]",
      "text/plain": [
       "<matplotlib.figure.Figure at 0x7f2b8230da50>"
      ]
     },
     "metadata": {},
     "output_type": "display_data"
    }
   ],
   "source": [
    "# summarize history for loss\n",
    "plt.plot(hist.history['loss'])\n",
    "plt.plot(hist.history['val_loss'])\n",
    "plt.title('model loss')\n",
    "plt.ylabel('loss')\n",
    "plt.xlabel('epoch')\n",
    "plt.legend(['train', 'test'], loc='upper left')\n",
    "plt.show()"
   ]
  },
  {
   "cell_type": "code",
   "execution_count": 31,
   "metadata": {
    "collapsed": true
   },
   "outputs": [],
   "source": [
    "prediction = vgg_model.predict(test_tensors)\n",
    "prediction = np.argmax(prediction,axis=1)\n",
    "y_pred = convert_to_categorical(prediction)"
   ]
  },
  {
   "cell_type": "code",
   "execution_count": 32,
   "metadata": {},
   "outputs": [
    {
     "name": "stdout",
     "output_type": "stream",
     "text": [
      "0.880829015544\n"
     ]
    }
   ],
   "source": [
    "y_compare = np.argmax(y_test,axis=1)\n",
    "score = metrics.accuracy_score(y_compare,prediction)\n",
    "print(score)"
   ]
  },
  {
   "cell_type": "code",
   "execution_count": 33,
   "metadata": {
    "collapsed": true
   },
   "outputs": [],
   "source": [
    "# Compute ROC curve and ROC area for each class\n",
    "fpr = dict()\n",
    "tpr = dict()\n",
    "roc_auc = dict()\n",
    "for i in range(output_size):\n",
    "    fpr[i], tpr[i], _ = roc_curve(y_test[:, i], y_pred[:, i])\n",
    "    roc_auc[i] = auc(fpr[i], tpr[i])"
   ]
  },
  {
   "cell_type": "code",
   "execution_count": 34,
   "metadata": {
    "collapsed": true
   },
   "outputs": [],
   "source": [
    "# Compute micro-average ROC curve and ROC area\n",
    "fpr[\"micro\"], tpr[\"micro\"], _ = roc_curve(y_test.ravel(), y_pred.ravel())\n",
    "roc_auc[\"micro\"] = auc(fpr[\"micro\"], tpr[\"micro\"])\n",
    "line_width = 3"
   ]
  },
  {
   "cell_type": "code",
   "execution_count": 37,
   "metadata": {},
   "outputs": [
    {
     "data": {
      "image/png": "[encoded data removed]",
      "text/plain": [
       "<matplotlib.figure.Figure at 0x7f2b821dead0>"
      ]
     },
     "metadata": {},
     "output_type": "display_data"
    }
   ],
   "source": [
    "all_fpr = np.unique(np.concatenate([fpr[i] for i in range(output_size)]))\n",
    "\n",
    "# Then interpolate all ROC curves at this points\n",
    "mean_tpr = np.zeros_like(all_fpr)\n",
    "for i in range(output_size):\n",
    "    mean_tpr += interp(all_fpr, fpr[i], tpr[i])\n",
    "\n",
    "# Finally average it and compute AUC\n",
    "mean_tpr /= output_size\n",
    "\n",
    "fpr[\"macro\"] = all_fpr\n",
    "tpr[\"macro\"] = mean_tpr\n",
    "roc_auc[\"macro\"] = auc(fpr[\"macro\"], tpr[\"macro\"])\n",
    "\n",
    "# Plot all ROC curves\n",
    "plt.figure(figsize=(10, 10))\n",
    "\n",
    "colors = cycle(['aqua', 'darkorange', 'cornflowerblue'])\n",
    "for i, color in zip(range(output_size), colors):\n",
    "    plt.plot(fpr[i], tpr[i], color=color, lw=line_width,\n",
    "             label='ROC curve for '+getPersonName(i)+' (area = {1:0.2f})'\n",
    "             ''.format(i, roc_auc[i]))\n",
    "\n",
    "plt.plot([0, 1], [0, 1], 'k--', lw=line_width)\n",
    "plt.xlim([0.0, 1.0])\n",
    "plt.ylim([0.0, 1.05])\n",
    "plt.xlabel('False Positive Rate')\n",
    "plt.ylabel('True Positive Rate')\n",
    "plt.title('Some extension of Receiver operating characteristic to multi-class')\n",
    "plt.legend(loc=\"lower right\")\n",
    "plt.show()"
   ]
  },
  {
   "cell_type": "code",
   "execution_count": null,
   "metadata": {
    "collapsed": true
   },
   "outputs": [],
   "source": []
  }
 ],
 "metadata": {
  "kernelspec": {
   "display_name": "Python 3",
   "language": "python",
   "name": "python3"
  },
  "language_info": {
   "codemirror_mode": {
    "name": "ipython",
    "version": 3
   },
   "file_extension": ".py",
   "mimetype": "text/x-python",
   "name": "python",
   "nbconvert_exporter": "python",
   "pygments_lexer": "ipython3",
   "version": "3.6.3"
  }
 },
 "nbformat": 4,
 "nbformat_minor": 2
}
