{
 "cells": [
  {
   "cell_type": "code",
   "execution_count": 1,
   "metadata": {},
   "outputs": [
    {
     "name": "stderr",
     "output_type": "stream",
     "text": [
      "Using TensorFlow backend.\n"
     ]
    }
   ],
   "source": [
    "import os\n",
    "import cv2\n",
    "import numpy as np\n",
    "import tensorflow as tf\n",
    "from datetime import datetime\n",
    "from alexnet import AlexNet\n",
    "import matplotlib.pyplot as plt\n",
    "from datagenerator import ImageDataGenerator\n",
    "\n",
    "from glob import glob\n",
    "from keras.preprocessing import image                  \n",
    "from tqdm import tqdm\n",
    "\n",
    "from sklearn.datasets import fetch_lfw_people\n",
    "from sklearn.metrics import auc\n",
    "from sklearn.metrics import roc_curve\n",
    "from sklearn import metrics\n",
    "\n",
    "from scipy import interp\n",
    "from itertools import cycle\n",
    "\n",
    "import random\n",
    "random.seed(8675309)"
   ]
  },
  {
   "cell_type": "code",
   "execution_count": 2,
   "metadata": {
    "collapsed": true
   },
   "outputs": [],
   "source": [
    "def getNamesList(min_faces_per_person):\n",
    "    lfw_people = fetch_lfw_people(min_faces_per_person=min_faces_per_person)\n",
    "    names_list = []\n",
    "    for name in lfw_people.target_names:\n",
    "        a = name.split(' ')\n",
    "        newA = []\n",
    "        for i in range(0,len(a)):\n",
    "            newA.append(a[i])\n",
    "            if (i != len(a)-1):\n",
    "                newA.append('_')\n",
    "        new_name = ''\n",
    "        for i in range(0,len(newA)):\n",
    "            new_name += newA[i]\n",
    "        names_list.append(new_name)\n",
    "    return names_list"
   ]
  },
  {
   "cell_type": "code",
   "execution_count": 3,
   "metadata": {
    "collapsed": true
   },
   "outputs": [],
   "source": [
    "def getLabels(train_data):\n",
    "    human_files_train_labels = np.zeros([train_data.shape[0]], dtype=int)\n",
    "    for i in range (0,train_data.shape[0]):\n",
    "        #print(train_data[i])\n",
    "        label = train_data[i].split('/')[1]\n",
    "        human_files_train_labels[i] = human_files_dictionary[label]\n",
    "    return human_files_train_labels"
   ]
  },
  {
   "cell_type": "code",
   "execution_count": 4,
   "metadata": {
    "collapsed": true
   },
   "outputs": [],
   "source": [
    "def convert_to_categorical(labels):\n",
    "    y = np.zeros([labels.shape[0],len(human_files_names)])\n",
    "    for i in range(0,labels.shape[0]):\n",
    "        y[i][labels[i]] = 1\n",
    "    return y"
   ]
  },
  {
   "cell_type": "code",
   "execution_count": 5,
   "metadata": {
    "collapsed": true
   },
   "outputs": [],
   "source": [
    "def getPersonName(index):\n",
    "    for key in human_files_dictionary.keys():\n",
    "         if (index == human_files_dictionary[key]):\n",
    "                return key"
   ]
  },
  {
   "cell_type": "code",
   "execution_count": 6,
   "metadata": {
    "collapsed": true
   },
   "outputs": [],
   "source": [
    "def convert_to_categorical(label):\n",
    "    y = np.zeros([len(human_files_dictionary)])\n",
    "    y[label] = 1\n",
    "    return y"
   ]
  },
  {
   "cell_type": "code",
   "execution_count": 7,
   "metadata": {},
   "outputs": [
    {
     "name": "stderr",
     "output_type": "stream",
     "text": [
      "Downloading LFW metadata: https://ndownloader.figshare.com/files/5976012\n",
      "Downloading LFW metadata: https://ndownloader.figshare.com/files/5976009\n",
      "Downloading LFW metadata: https://ndownloader.figshare.com/files/5976006\n",
      "Downloading LFW data (~200MB): https://ndownloader.figshare.com/files/5976015\n"
     ]
    }
   ],
   "source": [
    "min_faces_per_person = 70\n",
    "names_list = getNamesList(min_faces_per_person)"
   ]
  },
  {
   "cell_type": "code",
   "execution_count": 8,
   "metadata": {
    "collapsed": true
   },
   "outputs": [],
   "source": [
    "human_files_data = []\n",
    "human_files_names = []\n",
    "for i in range (0,len(names_list)):\n",
    "    #human_files = np.array(glob('lfw/'+names_list[i]+'/*'))\n",
    "    human_files_data.append(glob('lfw/'+names_list[i]+'/*'))\n",
    "    human_files_names.append('lfw/'+names_list[i])\n",
    "human_files = []\n",
    "for i in range(0,len(names_list)):\n",
    "    data = human_files_data[i]\n",
    "    for j in range(0,len(data)):\n",
    "        human_files.append(data[j])\n",
    "human_files = np.asarray(human_files)\n",
    "random.shuffle(human_files)"
   ]
  },
  {
   "cell_type": "code",
   "execution_count": 9,
   "metadata": {
    "collapsed": true
   },
   "outputs": [],
   "source": [
    "human_files_dictionary = dict()\n",
    "for i in range(0,len(human_files_names)):\n",
    "    human_files_dictionary.update({human_files_names[i].split('/')[1] : i})"
   ]
  },
  {
   "cell_type": "code",
   "execution_count": 10,
   "metadata": {
    "collapsed": true
   },
   "outputs": [],
   "source": [
    "train_divider = 0.5\n",
    "test_divider = 0.3\n",
    "train_limit = np.rint(train_divider * human_files.shape[0]).astype(int)\n",
    "test_limit = np.rint(test_divider * human_files.shape[0]).astype(int)\n",
    "#print(train_limit)\n",
    "#print(test_limit)\n",
    "human_files_train = human_files[ : train_limit]\n",
    "human_files_test = human_files[train_limit : test_limit+train_limit]\n",
    "human_files_valid = human_files[test_limit+train_limit : ]"
   ]
  },
  {
   "cell_type": "code",
   "execution_count": 11,
   "metadata": {
    "collapsed": true
   },
   "outputs": [],
   "source": [
    "human_files_train_labels = getLabels(human_files_train)\n",
    "human_files_test_labels = getLabels(human_files_test)\n",
    "human_files_valid_labels = getLabels(human_files_valid)"
   ]
  },
  {
   "cell_type": "code",
   "execution_count": 12,
   "metadata": {},
   "outputs": [
    {
     "data": {
      "text/plain": [
       "386"
      ]
     },
     "execution_count": 12,
     "metadata": {},
     "output_type": "execute_result"
    }
   ],
   "source": [
    "human_files_test.shape[0]"
   ]
  },
  {
   "cell_type": "code",
   "execution_count": 13,
   "metadata": {
    "collapsed": true
   },
   "outputs": [],
   "source": [
    "file = open('train.txt','w')\n",
    "for i in range(0,human_files_train.shape[0]):\n",
    "    file.write(human_files_train[i]+' '+str(human_files_train_labels[i]))\n",
    "    if i != human_files_train.shape[0]-1:\n",
    "        file.write('\\n')\n",
    "file.close() \n",
    "\n",
    "file = open('test.txt','w')\n",
    "for i in range(0,human_files_test.shape[0]):\n",
    "    file.write(human_files_test[i]+' '+str(human_files_test_labels[i]))\n",
    "    if i != human_files_test.shape[0]-1:\n",
    "        file.write('\\n')\n",
    "file.close() \n",
    "\n",
    "file = open('valid.txt','w')\n",
    "for i in range(0,human_files_valid.shape[0]):\n",
    "    file.write(human_files_valid[i]+' '+str(human_files_valid_labels[i]))\n",
    "    if i != human_files_valid.shape[0]-1:\n",
    "        file.write('\\n')\n",
    "file.close() "
   ]
  },
  {
   "cell_type": "code",
   "execution_count": 14,
   "metadata": {
    "collapsed": true
   },
   "outputs": [],
   "source": [
    "train_file = 'train.txt'\n",
    "test_file = 'test.txt'\n",
    "valid_file = 'valid.txt'"
   ]
  },
  {
   "cell_type": "code",
   "execution_count": 15,
   "metadata": {
    "collapsed": true
   },
   "outputs": [],
   "source": [
    "# Learning params\n",
    "learning_rate = 0.0005\n",
    "num_epochs = 50\n",
    "batch_size = 15"
   ]
  },
  {
   "cell_type": "code",
   "execution_count": 16,
   "metadata": {
    "collapsed": true
   },
   "outputs": [],
   "source": [
    "# Network params\n",
    "dropout_rate = 0.5\n",
    "num_classes = len(human_files_dictionary)\n",
    "train_layers = ['fc8', 'fc7']"
   ]
  },
  {
   "cell_type": "code",
   "execution_count": 17,
   "metadata": {
    "collapsed": true
   },
   "outputs": [],
   "source": [
    "x = tf.placeholder(tf.float32, [batch_size, 227, 227, 3])\n",
    "y = tf.placeholder(tf.float32, [None, num_classes])\n",
    "keep_prob = tf.placeholder(tf.float32)"
   ]
  },
  {
   "cell_type": "code",
   "execution_count": 18,
   "metadata": {
    "collapsed": true
   },
   "outputs": [],
   "source": [
    "# Initialize model\n",
    "model = AlexNet(x, keep_prob, num_classes, train_layers)\n",
    "\n",
    "#link variable to model output\n",
    "score = model.fc8\n",
    "pred = tf.nn.softmax(score,name='pred')"
   ]
  },
  {
   "cell_type": "code",
   "execution_count": 19,
   "metadata": {},
   "outputs": [
    {
     "name": "stdout",
     "output_type": "stream",
     "text": [
      "INFO:tensorflow:Summary name fc7/weights:0/gradient is illegal; using fc7/weights_0/gradient instead.\n",
      "INFO:tensorflow:Summary name fc7/biases:0/gradient is illegal; using fc7/biases_0/gradient instead.\n",
      "INFO:tensorflow:Summary name fc8/weights:0/gradient is illegal; using fc8/weights_0/gradient instead.\n",
      "INFO:tensorflow:Summary name fc8/biases:0/gradient is illegal; using fc8/biases_0/gradient instead.\n",
      "INFO:tensorflow:Summary name fc7/weights:0 is illegal; using fc7/weights_0 instead.\n",
      "INFO:tensorflow:Summary name fc7/biases:0 is illegal; using fc7/biases_0 instead.\n",
      "INFO:tensorflow:Summary name fc8/weights:0 is illegal; using fc8/weights_0 instead.\n",
      "INFO:tensorflow:Summary name fc8/biases:0 is illegal; using fc8/biases_0 instead.\n"
     ]
    },
    {
     "data": {
      "text/plain": [
       "<tf.Tensor 'cross_entropy:0' shape=() dtype=string>"
      ]
     },
     "execution_count": 19,
     "metadata": {},
     "output_type": "execute_result"
    }
   ],
   "source": [
    "var_list = [v for v in tf.trainable_variables() if v.name.split('/')[0] in train_layers]\n",
    "\n",
    "# Op for calculating the loss\n",
    "with tf.name_scope(\"cross_ent\"):\n",
    "  loss = tf.reduce_mean(tf.nn.softmax_cross_entropy_with_logits(logits = score, labels = y))\n",
    "\n",
    "# Train op\n",
    "with tf.name_scope(\"train\"):\n",
    "  # Get gradients of all trainable variables\n",
    "  gradients = tf.gradients(loss, var_list)\n",
    "  gradients = list(zip(gradients, var_list))\n",
    "# Create optimizer and apply gradient descent to the trainable variables\n",
    "  optimizer = tf.train.GradientDescentOptimizer(learning_rate)\n",
    "  train_op = optimizer.apply_gradients(grads_and_vars=gradients)\n",
    "\n",
    "# Add gradients to summary\n",
    "for gradient, var in gradients:\n",
    "  tf.summary.histogram(var.name + '/gradient', gradient)\n",
    "\n",
    "# Add the variables we train to the summary\n",
    "for var in var_list:\n",
    "  tf.summary.histogram(var.name, var)\n",
    "\n",
    "# Add the loss to summary\n",
    "tf.summary.scalar('cross_entropy', loss)"
   ]
  },
  {
   "cell_type": "code",
   "execution_count": 20,
   "metadata": {},
   "outputs": [
    {
     "data": {
      "text/plain": [
       "<tf.Tensor 'accuracy_1:0' shape=() dtype=string>"
      ]
     },
     "execution_count": 20,
     "metadata": {},
     "output_type": "execute_result"
    }
   ],
   "source": [
    "# Evaluation op: Accuracy of the model\n",
    "with tf.name_scope(\"accuracy\"):\n",
    "  correct_pred = tf.equal(tf.argmax(score, 1), tf.argmax(y, 1))\n",
    "  accuracy = tf.reduce_mean(tf.cast(correct_pred, tf.float32))\n",
    "\n",
    "# Add the accuracy to the summary\n",
    "tf.summary.scalar('accuracy', accuracy)"
   ]
  },
  {
   "cell_type": "code",
   "execution_count": 21,
   "metadata": {
    "collapsed": true
   },
   "outputs": [],
   "source": [
    "# Merge all summaries together\n",
    "merged_summary = tf.summary.merge_all()\n",
    "\n",
    "# Initialize an saver for store model checkpoints\n",
    "saver = tf.train.Saver()"
   ]
  },
  {
   "cell_type": "code",
   "execution_count": 22,
   "metadata": {
    "collapsed": true
   },
   "outputs": [],
   "source": [
    "checkpoint_path = \"/tmp/finetune_alexnet/\"\n",
    "if not os.path.isdir(checkpoint_path): os.mkdir(checkpoint_path)"
   ]
  },
  {
   "cell_type": "code",
   "execution_count": 23,
   "metadata": {
    "collapsed": true
   },
   "outputs": [],
   "source": [
    "train_generator = ImageDataGenerator(train_file,horizontal_flip = True, nb_classes = num_classes)\n",
    "test_generator = ImageDataGenerator(test_file, nb_classes = num_classes)\n",
    "valid_generator = ImageDataGenerator(valid_file, nb_classes = num_classes)\n",
    "\n",
    "train_batches_per_epoch = np.floor(train_generator.data_size / batch_size).astype(np.int16)\n",
    "test_batches_per_epoch = np.floor(test_generator.data_size / batch_size).astype(np.int16)\n",
    "valid_batches_per_epoch = np.floor(valid_generator.data_size / batch_size).astype(np.int16)"
   ]
  },
  {
   "cell_type": "code",
   "execution_count": 24,
   "metadata": {},
   "outputs": [
    {
     "name": "stderr",
     "output_type": "stream",
     "text": [
      "ERROR:root:Internal Python error in the inspect module.\n",
      "Below is the traceback from this internal error.\n",
      "\n"
     ]
    },
    {
     "name": "stdout",
     "output_type": "stream",
     "text": [
      "Traceback (most recent call last):\n",
      "  File \"/Users/siddhant/anaconda3/lib/python3.6/site-packages/IPython/core/interactiveshell.py\", line 2862, in run_code\n",
      "    exec(code_obj, self.user_global_ns, self.user_ns)\n",
      "  File \"<ipython-input-24-ecde61ee785c>\", line 7, in <module>\n",
      "    model.load_initial_weights(sess)\n",
      "  File \"/Users/siddhant/Downloads/siddhant/RU/Deep Learning Final Project/alexnet.py\", line 111, in load_initial_weights\n",
      "    session.run(var.assign(data))\n",
      "  File \"/Users/siddhant/anaconda3/lib/python3.6/site-packages/tensorflow/python/ops/variables.py\", line 551, in assign\n",
      "    return state_ops.assign(self._variable, value, use_locking=use_locking)\n",
      "  File \"/Users/siddhant/anaconda3/lib/python3.6/site-packages/tensorflow/python/ops/gen_state_ops.py\", line 47, in assign\n",
      "    use_locking=use_locking, name=name)\n",
      "  File \"/Users/siddhant/anaconda3/lib/python3.6/site-packages/tensorflow/python/framework/op_def_library.py\", line 491, in apply_op\n",
      "    preferred_dtype=default_dtype)\n",
      "  File \"/Users/siddhant/anaconda3/lib/python3.6/site-packages/tensorflow/python/framework/ops.py\", line 716, in internal_convert_to_tensor\n",
      "    ret = conversion_func(value, dtype=dtype, name=name, as_ref=as_ref)\n",
      "  File \"/Users/siddhant/anaconda3/lib/python3.6/site-packages/tensorflow/python/framework/constant_op.py\", line 176, in _constant_tensor_conversion_function\n",
      "    return constant(v, dtype=dtype, name=name)\n",
      "  File \"/Users/siddhant/anaconda3/lib/python3.6/site-packages/tensorflow/python/framework/constant_op.py\", line 169, in constant\n",
      "    attrs={\"value\": tensor_value, \"dtype\": dtype_value}, name=name).outputs[0]\n",
      "  File \"/Users/siddhant/anaconda3/lib/python3.6/site-packages/tensorflow/python/framework/ops.py\", line 2355, in create_op\n",
      "    for idx, a in enumerate(inputs):\n",
      "KeyboardInterrupt\n",
      "\n",
      "During handling of the above exception, another exception occurred:\n",
      "\n",
      "Traceback (most recent call last):\n",
      "  File \"/Users/siddhant/anaconda3/lib/python3.6/site-packages/IPython/core/interactiveshell.py\", line 1806, in showtraceback\n",
      "    stb = value._render_traceback_()\n",
      "AttributeError: 'KeyboardInterrupt' object has no attribute '_render_traceback_'\n",
      "\n",
      "During handling of the above exception, another exception occurred:\n",
      "\n",
      "Traceback (most recent call last):\n",
      "  File \"/Users/siddhant/anaconda3/lib/python3.6/site-packages/IPython/core/ultratb.py\", line 1090, in get_records\n",
      "    return _fixed_getinnerframes(etb, number_of_lines_of_context, tb_offset)\n",
      "  File \"/Users/siddhant/anaconda3/lib/python3.6/site-packages/IPython/core/ultratb.py\", line 311, in wrapped\n",
      "    return f(*args, **kwargs)\n",
      "  File \"/Users/siddhant/anaconda3/lib/python3.6/site-packages/IPython/core/ultratb.py\", line 345, in _fixed_getinnerframes\n",
      "    records = fix_frame_records_filenames(inspect.getinnerframes(etb, context))\n",
      "  File \"/Users/siddhant/anaconda3/lib/python3.6/inspect.py\", line 1480, in getinnerframes\n",
      "    frameinfo = (tb.tb_frame,) + getframeinfo(tb, context)\n",
      "  File \"/Users/siddhant/anaconda3/lib/python3.6/inspect.py\", line 1438, in getframeinfo\n",
      "    filename = getsourcefile(frame) or getfile(frame)\n",
      "  File \"/Users/siddhant/anaconda3/lib/python3.6/inspect.py\", line 693, in getsourcefile\n",
      "    if getattr(getmodule(object, filename), '__loader__', None) is not None:\n",
      "  File \"/Users/siddhant/anaconda3/lib/python3.6/inspect.py\", line 736, in getmodule\n",
      "    f = getabsfile(module)\n",
      "  File \"/Users/siddhant/anaconda3/lib/python3.6/inspect.py\", line 705, in getabsfile\n",
      "    _filename = getsourcefile(object) or getfile(object)\n",
      "  File \"/Users/siddhant/anaconda3/lib/python3.6/inspect.py\", line 690, in getsourcefile\n",
      "    if os.path.exists(filename):\n",
      "  File \"/Users/siddhant/anaconda3/lib/python3.6/genericpath.py\", line 19, in exists\n",
      "    os.stat(path)\n",
      "KeyboardInterrupt\n"
     ]
    },
    {
     "ename": "KeyboardInterrupt",
     "evalue": "",
     "output_type": "error",
     "traceback": [
      "\u001b[0;31m---------------------------------------------------------------------------\u001b[0m"
     ]
    }
   ],
   "source": [
    "with tf.Session() as sess:\n",
    "\n",
    "  # Initialize all variables\n",
    "  sess.run(tf.global_variables_initializer())\n",
    "\n",
    "  # Load the pretrained weights into the non-trainable layer\n",
    "  model.load_initial_weights(sess)\n",
    "    \n",
    "  for i in range(0,1):\n",
    "    for epoch in range(num_epochs):\n",
    "        print(\"{} Epoch number: {}\".format(datetime.now(), epoch+1))\n",
    "        step = 1\n",
    "        while step < train_batches_per_epoch:\n",
    "            # Get a batch of images and labels\n",
    "            batch_xs, batch_ys = train_generator.next_batch(batch_size)\n",
    "            # And run the training op\n",
    "            sess.run(train_op, feed_dict={x: batch_xs,\n",
    "                                          y: batch_ys,\n",
    "                                          keep_prob: dropout_rate})\n",
    "            # Generate summary with the current batch of data and write to file\n",
    "            if step%1 == 0:\n",
    "                s = sess.run(merged_summary, feed_dict={x: batch_xs,\n",
    "                                                        y: batch_ys,\n",
    "                                                        keep_prob: 1.})\n",
    "            step += 1\n",
    "        # validate the model on the entire validation set\n",
    "        print(\"{} Start validation\".format(datetime.now()))\n",
    "        valid_acc = 0.\n",
    "        valid_count = 0\n",
    "        classification_pred_data = []\n",
    "        classification_actual_data = []\n",
    "        for n_c in range(valid_batches_per_epoch):\n",
    "            batch_tx, batch_ty = valid_generator.next_batch(batch_size)\n",
    "            acc = sess.run(accuracy, feed_dict={x: batch_tx,\n",
    "                                                y: batch_ty,\n",
    "                                                keep_prob: 1.})\n",
    "            valid_acc += acc\n",
    "            valid_count += 1\n",
    "        valid_acc /= valid_count\n",
    "        print(\"valid accuracy:\")\n",
    "        print(valid_acc)\n",
    "\n",
    "        # Reset the file pointer of the image data generator\n",
    "        valid_generator.reset_pointer()\n",
    "        train_generator.reset_pointer()\n",
    "    # Calculate Test Accuracy\n",
    "    prediction_list = []\n",
    "    y_list = []\n",
    "    test_acc_sum = 0\n",
    "    valid_count = 0\n",
    "    for _ in range(test_batches_per_epoch):\n",
    "        test_batch_x, test_batch_y = test_generator.next_batch(batch_size)\n",
    "        y_list.append(test_batch_y)\n",
    "        prediction=tf.argmax(test_batch_y,1)\n",
    "        test_acc = sess.run(accuracy, feed_dict={\n",
    "            x: test_batch_x,\n",
    "            y: test_batch_y,\n",
    "            keep_prob: 1.})\n",
    "        pred = prediction.eval(feed_dict={x: test_batch_x})\n",
    "        prediction_list.append(pred)\n",
    "        valid_count += 1\n",
    "        test_acc_sum += test_acc\n",
    "    #print('Prediction: {}'.format(pred))\n",
    "    print('Testing Accuracy: {}'.format(test_acc_sum/valid_count))"
   ]
  },
  {
   "cell_type": "code",
   "execution_count": 25,
   "metadata": {
    "collapsed": true
   },
   "outputs": [],
   "source": [
    "# Compute ROC curve and ROC area for each class\n",
    "output_size = len(y_list)\n",
    "fpr = dict()\n",
    "tpr = dict()\n",
    "roc_auc = dict()\n",
    "count = 0\n",
    "for i in range(output_size):\n",
    "    for j in range(num_classes):\n",
    "        fpr[count], tpr[count], _ = roc_curve(y_list[i][j],convert_to_categorical(prediction_list[i][j]))\n",
    "        roc_auc[count] = auc(fpr[count], tpr[count])\n",
    "        count += 1"
   ]
  },
  {
   "cell_type": "code",
   "execution_count": 26,
   "metadata": {},
   "outputs": [
    {
     "data": {
      "image/png": "[encoded data removed]",
      "text/plain": [
       "<matplotlib.figure.Figure at 0x7f07f8462610>"
      ]
     },
     "metadata": {},
     "output_type": "display_data"
    }
   ],
   "source": [
    "line_width = 3\n",
    "all_fpr = np.unique(np.concatenate([fpr[i] for i in range(output_size)]))\n",
    "\n",
    "# Then interpolate all ROC curves at this points\n",
    "mean_tpr = np.zeros_like(all_fpr)\n",
    "for i in range(output_size):\n",
    "    mean_tpr += interp(all_fpr, fpr[i], tpr[i])\n",
    "\n",
    "# Finally average it and compute AUC\n",
    "mean_tpr /= output_size\n",
    "\n",
    "fpr[\"macro\"] = all_fpr\n",
    "tpr[\"macro\"] = mean_tpr\n",
    "roc_auc[\"macro\"] = auc(fpr[\"macro\"], tpr[\"macro\"])\n",
    "\n",
    "# Plot all ROC curves\n",
    "plt.figure(figsize=(10, 10))\n",
    "\n",
    "colors = cycle(['aqua', 'darkorange', 'cornflowerblue'])\n",
    "for i, color in zip(range(num_classes), colors):\n",
    "    plt.plot(fpr[i], tpr[i], color=color, lw=line_width,\n",
    "             label='ROC curve for '+getPersonName(i)+' (area = {1:0.2f})'\n",
    "             ''.format(i, roc_auc[i]))\n",
    "\n",
    "plt.plot([0, 1], [0, 1], 'k--', lw=line_width)\n",
    "plt.xlim([0.0, 1.0])\n",
    "plt.ylim([0.0, 1.05])\n",
    "plt.xlabel('False Positive Rate')\n",
    "plt.ylabel('True Positive Rate')\n",
    "plt.title('Some extension of Receiver operating characteristic to multi-class')\n",
    "plt.legend(loc=\"lower right\")\n",
    "plt.show()"
   ]
  },
  {
   "cell_type": "code",
   "execution_count": null,
   "metadata": {
    "collapsed": true
   },
   "outputs": [],
   "source": []
  }
 ],
 "metadata": {
  "kernelspec": {
   "display_name": "Python 3",
   "language": "python",
   "name": "python3"
  },
  "language_info": {
   "codemirror_mode": {
    "name": "ipython",
    "version": 3
   },
   "file_extension": ".py",
   "mimetype": "text/x-python",
   "name": "python",
   "nbconvert_exporter": "python",
   "pygments_lexer": "ipython3",
   "version": "3.6.3"
  }
 },
 "nbformat": 4,
 "nbformat_minor": 2
}
